{
 "cells": [
  {
   "cell_type": "code",
   "execution_count": 1,
   "id": "8e8790e8-faa3-4161-8fe3-9f229cbe9d46",
   "metadata": {
    "tags": []
   },
   "outputs": [],
   "source": [
    "import math\n",
    "import numpy as np\n",
    "import matplotlib.pyplot as plt"
   ]
  },
  {
   "cell_type": "markdown",
   "id": "f99de8ac-8a3c-45b0-a578-45fb7fd449a2",
   "metadata": {},
   "source": [
    "# The Environment"
   ]
  },
  {
   "cell_type": "code",
   "execution_count": 2,
   "id": "85e3de5a-df0a-47dc-a443-a29e62bd7c47",
   "metadata": {
    "tags": []
   },
   "outputs": [],
   "source": [
    "# تعريف محطات الشحن باستخدام أرقام فريدة\n",
    "charging_station1 = {\n",
    "    'location': (2, 2),\n",
    "    'id': 1\n",
    "}\n",
    "\n",
    "charging_station2 = {\n",
    "    'location': (17, 2),\n",
    "    'id': 2\n",
    "}\n",
    "\n",
    "charging_station3 = {\n",
    "    'location': (9, 17),\n",
    "    'id': 3\n",
    "}\n",
    "\n",
    "# تعريف المحطات الفرعية باستخدام أرقام فريدة\n",
    "substation1 = {\n",
    "    'location': (6, 12),\n",
    "    'id': 4\n",
    "}\n",
    "\n",
    "substation2 = {\n",
    "    'location': (5, 5),\n",
    "    'id': 5\n",
    "}\n",
    "\n",
    "substation3 = {\n",
    "    'location': (15, 10),\n",
    "    'id': 6\n",
    "}\n",
    "\n",
    "substation4 = {\n",
    "    'location': (12, 4),\n",
    "    'id': 7\n",
    "}\n",
    "\n",
    "substation5 = {\n",
    "    'location': (14, 15),\n",
    "    'id': 8\n",
    "}\n",
    "\n",
    "# تحديد موقع محطة التفريغ\n",
    "unloading_station = {\n",
    "    'location': (9, 9),\n",
    "    'id': 9\n",
    "}\n",
    "\n",
    "# تجميع جميع محطات الشحن والمحطات الفرعية في قائمة واحدة\n",
    "stations = [\n",
    "    charging_station1,\n",
    "    charging_station2,\n",
    "    charging_station3,\n",
    "    substation1,\n",
    "    substation2,\n",
    "    substation3,\n",
    "    substation4,\n",
    "    substation5,\n",
    "    unloading_station\n",
    "]\n",
    "\n",
    "# تحديث مصفوفة البيئة لتعكس التغييرات\n",
    "environment = np.zeros((20, 20), dtype=int)\n",
    "\n",
    "for station in stations:\n",
    "    location = station['location']\n",
    "    station_id = station['id']\n",
    "    environment[location[0]][location[1]] = station_id\n",
    "\n",
    "# مواصفات الروبوتات\n",
    "robot_specs = [\n",
    "    # الروبوت الأول\n",
    "    {\n",
    "        'Name':'Robot1',\n",
    "        'max_battery': 100,  # سعة البطارية بالنسبة للوحدة (٪)\n",
    "        'max_payload': 5,    # الحمولة القصوى بالنسبة للوحدة (كجم)\n",
    "        'current_battery': 100, # حالة البطارية الحالية بالنسبة للوحدة (٪)\n",
    "        'current_location': charging_station1['location'], # موقع الروبوت الحالي (x, y)\n",
    "    },\n",
    "    # الروبوت الثاني\n",
    "    {\n",
    "        'Name':'Robot2',\n",
    "        'max_battery': 80,\n",
    "        'max_payload': 3,\n",
    "        'current_battery': 80,\n",
    "        'current_location': charging_station3['location'],\n",
    "    },\n",
    "    # الروبوت الثالث\n",
    "    {\n",
    "        'Name':'Robot3',\n",
    "        'max_battery': 70,\n",
    "        'max_payload': 2,\n",
    "        'current_battery': 70,\n",
    "        'current_location': charging_station2['location'],\n",
    "    }\n",
    "]\n",
    "\n",
    "paths =[{'from': 1, 'to': 1, 'cost': 4, 'available': True},\n",
    "        {'from': 1, 'to': 4, 'cost': 12, 'available': False},\n",
    "        {'from': 1, 'to': 5, 'cost': 6, 'available': True},\n",
    "        {'from': 1, 'to': 6, 'cost': 3, 'available': True},\n",
    "        {'from': 1, 'to': 7, 'cost': 9, 'available': True},\n",
    "        {'from': 1, 'to': 8, 'cost': 8, 'available': False},\n",
    "        {'from': 2, 'to': 2, 'cost': 12, 'available': True},\n",
    "        {'from': 2, 'to': 4, 'cost': 5, 'available': True},\n",
    "        {'from': 2, 'to': 5, 'cost': 2, 'available': False},\n",
    "        {'from': 2, 'to': 6, 'cost': 7, 'available': True},\n",
    "        {'from': 2, 'to': 7, 'cost': 9, 'available': True},\n",
    "        {'from': 2, 'to': 8, 'cost': 1, 'available': True},\n",
    "        {'from': 3, 'to': 3, 'cost': 2, 'available': False},\n",
    "        {'from': 3, 'to': 4, 'cost': 6, 'available': True},\n",
    "        {'from': 3, 'to': 5, 'cost': 8, 'available': True},\n",
    "        {'from': 3, 'to': 6, 'cost': 11, 'available': False},\n",
    "        {'from': 3, 'to': 7, 'cost': 7, 'available': True},\n",
    "        {'from': 3, 'to': 8, 'cost': 2, 'available': True},\n",
    "        {'from': 4, 'to': 9, 'cost': 5, 'available': True},\n",
    "        {'from': 5, 'to': 9, 'cost': 13, 'available': True},\n",
    "        {'from': 6, 'to': 9, 'cost': 7, 'available': True},\n",
    "        {'from': 7, 'to': 9, 'cost': 2, 'available': False},\n",
    "        {'from': 8, 'to': 9, 'cost': 8, 'available': True}]"
   ]
  },
  {
   "cell_type": "code",
   "execution_count": 3,
   "id": "61a1bec1-dd7c-44b1-a9d8-de17b4ff5223",
   "metadata": {
    "tags": []
   },
   "outputs": [
    {
     "name": "stderr",
     "output_type": "stream",
     "text": [
      "C:\\Users\\MoHaMeD\\AppData\\Local\\Temp\\ipykernel_1996\\2079315946.py:3: MatplotlibDeprecationWarning: The get_cmap function was deprecated in Matplotlib 3.7 and will be removed two minor releases later. Use ``matplotlib.colormaps[name]`` or ``matplotlib.colormaps.get_cmap(obj)`` instead.\n",
      "  cmap = plt.cm.get_cmap('tab10', 10)  # تحديد خريطة الألوان\n"
     ]
    },
    {
     "data": {
      "image/png": "[encoded data removed]",
      "text/plain": [
       "<Figure size 640x480 with 1 Axes>"
      ]
     },
     "metadata": {},
     "output_type": "display_data"
    }
   ],
   "source": [
    "# إعداد مخطط البيانات\n",
    "fig, ax = plt.subplots()\n",
    "cmap = plt.cm.get_cmap('tab10', 10)  # تحديد خريطة الألوان\n",
    "\n",
    "# رسم البيئة\n",
    "ax.matshow(environment, cmap=cmap)\n",
    "\n",
    "# إضافة وصف الألوان\n",
    "colors = ['green', 'brown', 'blue', 'orange', 'purple', 'yellow', 'yellow', 'cyan', 'lime', 'pink']\n",
    "labels = ['Charging Station', 'Unloading Station', 'Substation', 'Robot 1', 'Robot 2', 'Robot 3']\n",
    "handles = [plt.Rectangle((0, 0), 2, 4, color=color) for color in colors]\n",
    "ax.legend(handles, labels, loc='upper center', bbox_to_anchor=(0.5, -0.1), ncol=3)\n",
    "\n",
    "# تحديد الألوان الخاصة بمحطات الشحن والمحطات الفرعية ومحطة التفريغ\n",
    "charging_station_color = colors[0]\n",
    "substation_color = colors[2]\n",
    "unloading_station_color = colors[1]\n",
    "\n",
    "# رسم محطات الشحن\n",
    "for station in [charging_station1, charging_station2, charging_station3]:\n",
    "    station_location = station['location']\n",
    "    rect = plt.Rectangle((station_location[1] - 0.5, station_location[0] - 0.5), 1, 1, color=charging_station_color)\n",
    "    ax.add_patch(rect)\n",
    "\n",
    "# رسم محطات الفرعية\n",
    "for station in [substation1, substation2, substation3, substation4, substation5]:\n",
    "    station_location = station['location']\n",
    "    rect = plt.Rectangle((station_location[1] - 0.5, station_location[0] - 0.5), 1, 1, color=substation_color)\n",
    "    ax.add_patch(rect)\n",
    "\n",
    "# رسم محطة التفريغ\n",
    "unloading_station_location = unloading_station['location']\n",
    "rect = plt.Rectangle((unloading_station_location[1] - 0.5, unloading_station_location[0] - 0.5), 1, 1, color=unloading_station_color)\n",
    "ax.add_patch(rect)\n",
    "\n",
    "# رسم الروبوتات\n",
    "for i, robot in enumerate(robot_specs):\n",
    "    robot_location = robot['current_location']\n",
    "    rect = plt.Rectangle((robot_location[1] - 0.5, robot_location[0] - 0.5), 0.5, 0.5, color=colors[i+3])\n",
    "    ax.add_patch(rect)\n",
    "\n",
    "# رسم الخطوط بين المحطات\n",
    "# for station1 in stations:\n",
    "#     for station2 in stations:\n",
    "#         if station1 != station2:  # التأكد من أن المحطتين مختلفتين\n",
    "#             location1 = station1['location']\n",
    "#             location2 = station2['location']\n",
    "#             plt.plot([location1[1], location2[1]], [location1[0], location2[0]], color='black')\n",
    "\n",
    "# عرض البيئة\n",
    "plt.show()"
   ]
  },
  {
   "cell_type": "markdown",
   "id": "da632052-10e1-46db-8f9f-43e4a3a6a8d8",
   "metadata": {
    "tags": []
   },
   "source": [
    "# Select Best Robot"
   ]
  },
  {
   "cell_type": "code",
   "execution_count": 5,
   "id": "fddb8dd5-5b06-407b-9220-ac751d245c10",
   "metadata": {
    "tags": []
   },
   "outputs": [],
   "source": [
    "def choose_best_robot(robots):\n",
    "    best_robot = None\n",
    "    max_score = -1\n",
    "\n",
    "    for robot in robots:\n",
    "        battery_score = robot['current_battery'] / robot['max_battery']\n",
    "        payload_score = robot['max_payload']\n",
    "\n",
    "        # حساب النقاط الكلية لكل روبوت\n",
    "        total_score = battery_score * payload_score\n",
    "\n",
    "        if total_score > max_score:\n",
    "            max_score = total_score\n",
    "            best_robot = robot\n",
    "\n",
    "    return best_robot['Name']"
   ]
  },
  {
   "cell_type": "code",
   "execution_count": 6,
   "id": "2f2fa879-91a2-4db5-9e95-43b5432aecab",
   "metadata": {},
   "outputs": [
    {
     "name": "stdout",
     "output_type": "stream",
     "text": [
      "Robot1\n"
     ]
    }
   ],
   "source": [
    "best_robot = choose_best_robot(robot_specs)\n",
    "print(best_robot)"
   ]
  },
  {
   "cell_type": "markdown",
   "id": "569611d3-2e75-443b-bb4b-43db54187b3d",
   "metadata": {},
   "source": [
    "# Select Best Route"
   ]
  },
  {
   "cell_type": "code",
   "execution_count": 4,
   "id": "a6ed45bc-a3b7-47db-84a9-d16f81381691",
   "metadata": {
    "tags": []
   },
   "outputs": [
    {
     "name": "stdout",
     "output_type": "stream",
     "text": [
      "Best Path Is : 3 >> 4 >> 9\n"
     ]
    }
   ],
   "source": [
    "from collections import deque\n",
    "\n",
    "def best_first_search(paths, start, goal, min_stations):\n",
    "    \n",
    "    valid_paths = [path for path in paths if path['available']]\n",
    "    valid_paths = [path for path in valid_paths if path['from'] != goal]\n",
    "\n",
    "    queue = deque([(start, [start])])\n",
    "    visited = set()\n",
    "\n",
    "    while queue:\n",
    "        current_station, current_path = queue.popleft()\n",
    "\n",
    "        if current_station == goal and len(current_path) >= min_stations + 1:\n",
    "            return current_path\n",
    "\n",
    "        if current_station in visited:\n",
    "            continue\n",
    "\n",
    "        visited.add(current_station)\n",
    "\n",
    "        for path in valid_paths:\n",
    "            if path['from'] == current_station:\n",
    "                new_station = path['to']\n",
    "                new_path = current_path + [new_station]\n",
    "                queue.append((new_station, new_path))\n",
    "\n",
    "    return None\n",
    "\n",
    "start_station = 3\n",
    "\n",
    "goal_station = 9\n",
    "min_stations_required = 2\n",
    "\n",
    "best_path = best_first_search(paths, start_station, goal_station, min_stations_required)\n",
    "print(f\"Best Path Is : {best_path[0]} >> {best_path[1]} >> {best_path[2]}\")"
   ]
  },
  {
   "cell_type": "markdown",
   "id": "d5c7e10f-0844-48cf-8d3b-116ccb898935",
   "metadata": {},
   "source": [
    "# Charging Robot"
   ]
  },
  {
   "cell_type": "code",
   "execution_count": 7,
   "id": "b26224b3-52ae-4f27-92cd-bcf185952e90",
   "metadata": {
    "tags": []
   },
   "outputs": [],
   "source": [
    "def check_charging(robot, paths):\n",
    "    current_location = robot['current_location']\n",
    "    robot_id = stations.index(\n",
    "        next(station for station in stations if station['location'] == current_location)\n",
    "    ) + 1\n",
    "\n",
    "    for path in paths:\n",
    "        if path['from'] == robot_id and path['to'] == robot_id and not path['available']:\n",
    "            return True\n",
    "\n",
    "    return False"
   ]
  },
  {
   "cell_type": "code",
   "execution_count": 8,
   "id": "a2b16fe1-0989-42dd-9818-a344b411a967",
   "metadata": {
    "tags": []
   },
   "outputs": [
    {
     "name": "stdout",
     "output_type": "stream",
     "text": [
      "Robot Robot2 is charging.\n"
     ]
    }
   ],
   "source": [
    "def charge_robot(robot):\n",
    "    # تنفيذ عملية الشحن هنا\n",
    "    print(f\"Robot {robot['Name']} is charging.\")\n",
    "\n",
    "# التحقق من حالة الشحن لكل روبوت واتخاذ إجراء مناسب\n",
    "for robot in robot_specs:\n",
    "    if check_charging(robot, paths):\n",
    "        charge_robot(robot)"
   ]
  }
 ],
 "metadata": {
  "kernelspec": {
   "display_name": "Python 3 (ipykernel)",
   "language": "python",
   "name": "python3"
  },
  "language_info": {
   "codemirror_mode": {
    "name": "ipython",
    "version": 3
   },
   "file_extension": ".py",
   "mimetype": "text/x-python",
   "name": "python",
   "nbconvert_exporter": "python",
   "pygments_lexer": "ipython3",
   "version": "3.11.0"
  },
  "widgets": {
   "application/vnd.jupyter.widget-state+json": {
    "state": {},
    "version_major": 2,
    "version_minor": 0
   }
  }
 },
 "nbformat": 4,
 "nbformat_minor": 5
}
