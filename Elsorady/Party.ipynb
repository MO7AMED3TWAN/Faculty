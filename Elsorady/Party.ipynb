{
 "cells": [
  {
   "cell_type": "code",
   "execution_count": 5,
   "id": "1bb63376-0f9d-4feb-8618-48906765821b",
   "metadata": {
    "tags": []
   },
   "outputs": [
    {
     "name": "stdin",
     "output_type": "stream",
     "text": [
      " 5\n",
      " -1\n",
      " 1\n",
      " 2\n",
      " -1\n",
      " 1\n"
     ]
    },
    {
     "name": "stdout",
     "output_type": "stream",
     "text": [
      "2\n"
     ]
    }
   ],
   "source": [
    "# دالة البحث العميق أولاً\n",
    "def dfs(employee, org_chart, groups):\n",
    "    # إضافة الموظف إلى المجموعة الحالية\n",
    "    groups[-1].add(employee)\n",
    "    \n",
    "    # زيارة الموظفين التابعين\n",
    "    if employee in org_chart:\n",
    "        for subordinate in org_chart[employee]:\n",
    "            dfs(subordinate, org_chart, groups)\n",
    "\n",
    "# البرنامج الرئيسي\n",
    "n = int(input())\n",
    "org_chart = {}\n",
    "for employee in range(1, n+1):\n",
    "    manager = int(input())\n",
    "    if manager != -1:\n",
    "        org_chart.setdefault(manager, []).append(employee)\n",
    "            \n",
    "groups = []\n",
    "visited = set()\n",
    "for employee in range(1, n+1):\n",
    "    if employee not in visited:\n",
    "        groups.append(set())\n",
    "        dfs(employee, org_chart, groups)\n",
    "        visited.update(groups[-1])\n",
    "            \n",
    "print(len(groups))"
   ]
  },
  {
   "cell_type": "code",
   "execution_count": null,
   "id": "0c1378a6-d508-4aae-b06a-5f64fb5ed25c",
   "metadata": {},
   "outputs": [],
   "source": []
  }
 ],
 "metadata": {
  "kernelspec": {
   "display_name": "Python 3 (ipykernel)",
   "language": "python",
   "name": "python3"
  },
  "language_info": {
   "codemirror_mode": {
    "name": "ipython",
    "version": 3
   },
   "file_extension": ".py",
   "mimetype": "text/x-python",
   "name": "python",
   "nbconvert_exporter": "python",
   "pygments_lexer": "ipython3",
   "version": "3.11.0"
  },
  "widgets": {
   "application/vnd.jupyter.widget-state+json": {
    "state": {},
    "version_major": 2,
    "version_minor": 0
   }
  }
 },
 "nbformat": 4,
 "nbformat_minor": 5
}
