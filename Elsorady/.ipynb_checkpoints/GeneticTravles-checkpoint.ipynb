{
 "cells": [
  {
   "cell_type": "code",
   "execution_count": 49,
   "id": "994664ff-c023-48dd-a0f5-5d1faf3ca880",
   "metadata": {
    "tags": []
   },
   "outputs": [],
   "source": [
    "import random\n",
    "\n",
    "# تعريف المتغيرات الخاصة بالخوارزمية الجينية\n",
    "POPULATION_SIZE = 100\n",
    "ELITE_SIZE = 20\n",
    "MUTATION_RATE = 0.01\n",
    "GENERATIONS = 100\n",
    "\n",
    "# تعريف العداد الأولي\n",
    "def create_individual(cities):\n",
    "    return random.sample(cities, len(cities))"
   ]
  },
  {
   "cell_type": "code",
   "execution_count": 50,
   "id": "bedc1d83-6121-4098-b0c6-0b7939e92d21",
   "metadata": {
    "tags": []
   },
   "outputs": [],
   "source": [
    "# حساب اللياقة للعداد\n",
    "def fitness(individual, distances):\n",
    "    total_distance = 0\n",
    "    for i in range(len(individual) - 1):\n",
    "        city1 = individual[i]\n",
    "        city2 = individual[i + 1]\n",
    "        total_distance += distances[city1][city2]\n",
    "    \n",
    "    if total_distance == 0:\n",
    "        return 0\n",
    "    \n",
    "    return 1 / total_distance"
   ]
  },
  {
   "cell_type": "code",
   "execution_count": 51,
   "id": "a2c86c40-1c02-4d49-8aa2-a374a4d0358f",
   "metadata": {
    "tags": []
   },
   "outputs": [],
   "source": [
    "# اختيار أفضل العدادات\n",
    "def select_best(population, distances):\n",
    "    fitness_scores = [(fitness(individual, distances), individual) for individual in population]\n",
    "    fitness_scores.sort(reverse=True)\n",
    "    return [individual for _, individual in fitness_scores[:ELITE_SIZE]]"
   ]
  },
  {
   "cell_type": "code",
   "execution_count": 52,
   "id": "d156b602-056c-493f-8f25-0f389a66abd8",
   "metadata": {
    "tags": []
   },
   "outputs": [],
   "source": [
    "# عملية التزاوج بين العدادات\n",
    "def crossover(parent1, parent2):\n",
    "    midpoint = random.randint(1, len(parent1) - 2)  # تعديل هنا لتجنب الوصول إلى آخر العداد\n",
    "\n",
    "    child = parent1[:midpoint]  # جزء من parent1 قبل نقطة الانقسام\n",
    "\n",
    "    for gene in parent2:\n",
    "        if gene not in child:\n",
    "            child.append(gene)  # إضافة العناصر المتبقية من parent2 إلى العداد الابن\n",
    "\n",
    "    return child"
   ]
  },
  {
   "cell_type": "code",
   "execution_count": 53,
   "id": "4a6e7355-3fc5-461e-bee2-aa3326a72a7f",
   "metadata": {
    "tags": []
   },
   "outputs": [],
   "source": [
    "# عملية الطفر\n",
    "def mutate(individual):\n",
    "    if random.random() < MUTATION_RATE:\n",
    "        index1, index2 = random.choices(range(len(individual)), k=2)\n",
    "        individual[index1], individual[index2] = individual[index2], individual[index1]\n",
    "    return individual"
   ]
  },
  {
   "cell_type": "code",
   "execution_count": 87,
   "id": "76e9caf3-4876-4f0e-b00e-9cc13ef7c3a7",
   "metadata": {
    "tags": []
   },
   "outputs": [],
   "source": [
    "# الخوارزمية الجينية لحل مشكلة الخط الجوي\n",
    "def genetic_algorithm(cities, distances):\n",
    "    # إنشاء العدادات الأولية\n",
    "    population = [create_individual(cities) for _ in range(POPULATION_SIZE)]\n",
    "\n",
    "    for generation in range(GENERATIONS):\n",
    "        # اختيار العدادات الأفضل\n",
    "        elites = select_best(population, distances)\n",
    "        \n",
    "        # إنشاء الأجيال اللاحقة بالتزاوج والطفر\n",
    "        offspring = []\n",
    "        while len(offspring) < POPULATION_SIZE - ELITE_SIZE:\n",
    "            parent1, parent2 = random.sample(elites, 2)\n",
    "            child = crossover(parent1, parent2)\n",
    "            child = mutate(child)\n",
    "            offspring.append(child)\n",
    "        \n",
    "        # دمج العدادات الجديدة مع الأفضل في الجيل الحالي\n",
    "        population =elites + offspring\n",
    "\n",
    "        # طباعة أفضل العدادات في الجيل الحالي\n",
    "        best_individual = max([(fitness(individual, distances), individual) for individual in population])\n",
    "        if generation==99:\n",
    "            print(\"Generation {}: {}\".format(generation+1, best_individual[1]))"
   ]
  },
  {
   "cell_type": "code",
   "execution_count": 126,
   "id": "76f558a3-c182-4772-b68c-2bb96faa61ce",
   "metadata": {},
   "outputs": [
    {
     "name": "stdout",
     "output_type": "stream",
     "text": [
      "Generation 100: [2, 4, 5, 1, 0, 3]\n"
     ]
    }
   ],
   "source": [
    "cities = [0, 1, 2, 3, 4, 5]\n",
    "\n",
    "distances = [\n",
    "[0, 10, 15, 20, 25, 30],\n",
    "[10, 0, 35, 25, 20, 15],\n",
    "[15, 35, 0, 30, 10, 20],\n",
    "[20, 25, 30, 0, 35, 40],\n",
    "[25, 20, 10, 35, 0, 5],\n",
    "[30, 15, 20, 40, 5, 0]\n",
    "]\n",
    "\n",
    "genetic_algorithm(cities, distances)"
   ]
  },
  {
   "cell_type": "code",
   "execution_count": null,
   "id": "6c04b2eb-f2bf-4929-941a-026c73ff025d",
   "metadata": {},
   "outputs": [],
   "source": []
  }
 ],
 "metadata": {
  "kernelspec": {
   "display_name": "Python 3 (ipykernel)",
   "language": "python",
   "name": "python3"
  },
  "language_info": {
   "codemirror_mode": {
    "name": "ipython",
    "version": 3
   },
   "file_extension": ".py",
   "mimetype": "text/x-python",
   "name": "python",
   "nbconvert_exporter": "python",
   "pygments_lexer": "ipython3",
   "version": "3.11.0"
  },
  "widgets": {
   "application/vnd.jupyter.widget-state+json": {
    "state": {},
    "version_major": 2,
    "version_minor": 0
   }
  }
 },
 "nbformat": 4,
 "nbformat_minor": 5
}
