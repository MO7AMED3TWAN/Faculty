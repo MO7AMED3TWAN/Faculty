{
 "cells": [
  {
   "cell_type": "code",
   "execution_count": 5,
   "id": "77cb198a-5a8b-4d22-88de-556635516cbc",
   "metadata": {
    "tags": []
   },
   "outputs": [],
   "source": [
    "# تحديد المصفوفة لتمثيل البيئة\n",
    "environment = [[0 for _ in range(36)] for _ in range(36)]\n",
    "\n",
    "# تحديد المحطات وتمثيلها بالرقم 1\n",
    "environment[5][5] = 1 # محطة الشحن\n",
    "environment[30][5] = 1 # محطة التفريغ\n",
    "environment[18][30] = 1 # محطة التحميل\n",
    "\n",
    "# تحديد المسارات وتمثيلها بأرقام 3 وما فوق\n",
    "# المسارات بين محطة الشحن ومحطة التفريغ\n",
    "for y in range(6, 31):\n",
    "    environment[y][5] = 3\n",
    "    environment[y][30] = 4\n",
    "for x in range(6, 31):\n",
    "    environment[5][x] = 5\n",
    "    environment[30][x] = 6\n",
    "\n",
    "# المسارات بين محطة الشحن ومحطة التحميل\n",
    "for x in range(6, 31):\n",
    "    environment[18][5] = 7\n",
    "for y in range(6, 19):\n",
    "    environment[5][y] = 8\n",
    "for y in range(20, 31):\n",
    "    environment[5][y] = 9\n",
    "\n",
    "# تحديد موقع الروبوت وتمثيله بالرقم 2\n",
    "environment[5][5] = 2\n",
    "\n",
    "# تحديد طاقة الشحن المطلوبة لكل مسار\n",
    "path_capacity = [6, 5, 5, 5, 5, 5, 2, 2, 2]"
   ]
  },
  {
   "cell_type": "code",
   "execution_count": null,
   "id": "48c40bfe-63e4-452b-a9c4-cd749f51277e",
   "metadata": {},
   "outputs": [],
   "source": []
  },
  {
   "cell_type": "code",
   "execution_count": null,
   "id": "b0584392-935c-40e2-acb1-b5643a9e6044",
   "metadata": {},
   "outputs": [],
   "source": [
    "# الخوارزمية لاختيار أفضل روبوت\n",
    "def choose_best_robot(robot_specs):\n",
    "    # الخطوة 1: اختر الروبوت الذي يمتلك أعلى سعة للحمولة\n",
    "    max_payload = max([robot['payload_capacity'] for robot in robot_specs])\n",
    "    max_payload_robots = [robot for robot in robot_specs if robot['payload_capacity'] == max_payload]\n",
    "    \n",
    "    # الخطوة 2: اختر الروبوت الذي يمتلك أعلى سعة بطارية إذا كان هناك أكثر من روبوت واحد يمتلك نفس السعة القصوى للحمولة\n",
    "    if len(max_payload_robots) > 1:\n",
    "        max_battery_capacity = max([robot['battery_capacity'] for robot in max_payload_robots])\n",
    "        max_battery_capacity_robots = [robot for robot in max_payload_robots if robot['battery_capacity'] == max_battery_capacity]\n",
    "        \n",
    "        # الخطوة 3: اختر الروبوت الذي يمتلك أقل وقت للشحن إذا كان هناك أكثر من روبوت واحد يمتلك نفس السعة القصوى للحمولة ونفس السعة البطارية\n",
    "        if len(max_battery_capacity_robots) > 1:\n",
    "            min_charging_time = min([robot['charging_time'] for robot in max_battery_capacity_robots])\n",
    "            best_robot = [robot for robot in max_battery_capacity_robots if robot['charging_time'] == min_charging_time][0]\n",
    "        else:\n",
    "            best_robot = max_battery_capacity_robots[0]    \n",
    "    else:\n",
    "        best_robot = max_payload_robots[0]\n",
    "    \n",
    "    return best_robot"
   ]
  }
 ],
 "metadata": {
  "kernelspec": {
   "display_name": "Python 3 (ipykernel)",
   "language": "python",
   "name": "python3"
  },
  "language_info": {
   "codemirror_mode": {
    "name": "ipython",
    "version": 3
   },
   "file_extension": ".py",
   "mimetype": "text/x-python",
   "name": "python",
   "nbconvert_exporter": "python",
   "pygments_lexer": "ipython3",
   "version": "3.11.0"
  },
  "widgets": {
   "application/vnd.jupyter.widget-state+json": {
    "state": {},
    "version_major": 2,
    "version_minor": 0
   }
  }
 },
 "nbformat": 4,
 "nbformat_minor": 5
}
