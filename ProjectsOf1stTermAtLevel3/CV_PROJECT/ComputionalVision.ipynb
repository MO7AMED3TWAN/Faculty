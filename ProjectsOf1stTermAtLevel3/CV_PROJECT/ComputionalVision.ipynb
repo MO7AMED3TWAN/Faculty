{
 "cells": [
  {
   "cell_type": "code",
   "execution_count": 2,
   "id": "d717ff32",
   "metadata": {},
   "outputs": [],
   "source": [
    "import cv2\n",
    "import pandas as pd\n",
    "face_cascade = cv2.CascadeClassifier('haarcascade_frontalface.xml')\n",
    "eye_cascade = cv2.CascadeClassifier('haarcascade_eye.xml')"
   ]
  },
  {
   "cell_type": "code",
   "execution_count": 3,
   "id": "e2af3dce-4053-4c4d-b26c-5aaefd87a00b",
   "metadata": {},
   "outputs": [],
   "source": [
    "video_capture = cv2.VideoCapture(0)\n",
    "\n",
    "clicked = False\n",
    "r = g = b = x_pos = y_pos = 0\n",
    "\n",
    "index = [\"color\", \"color_name\", \"hex\", \"R\", \"G\", \"B\"]\n",
    "csv = pd.read_csv('colors.csv', names=index, header=None)\n",
    "def get_color_name(R, G, B):\n",
    "    maximum = 10000\n",
    "    for i in range(len(csv)):\n",
    "        d = abs(R - int(csv.loc[i, \"R\"])) + abs(G - int(csv.loc[i, \"G\"])) + abs(B - int(csv.loc[i, \"B\"]))\n",
    "        if d <= maximum:\n",
    "            maximum = d\n",
    "            cname = csv.loc[i, \"color_name\"]\n",
    "    return cname\n",
    "def locate_function(event, x, y, flags, param):\n",
    "    if event == cv2.EVENT_LBUTTONDBLCLK:\n",
    "        global b, g, r, x_pos, y_pos, clicked\n",
    "        clicked = True\n",
    "        x_pos = x\n",
    "        y_pos = y\n",
    "        b, g, r = frame[y, x]\n",
    "        b = int(b)\n",
    "        g = int(g)\n",
    "        r = int(r)\n",
    "\n",
    "\n",
    "cv2.namedWindow('Color Detection')\n",
    "cv2.setMouseCallback('Color Detection', locate_function)\n",
    "while True:\n",
    "    ret, frame = video_capture.read()\n",
    "\n",
    "    cv2.imshow(\"Color Detection\", frame)    \n",
    "    if clicked:\n",
    "        faces = face_cascade.detectMultiScale(frame, scaleFactor=1.3, minNeighbors=5, minSize=(200, 200))\n",
    "        cv2.rectangle(frame, (20, 20), (620, 60), (b, g, r), -1)\n",
    "        text = get_color_name(r, g, b) + ' R=' + str(r) + ' G=' + str(g) + ' B=' + str(b)\n",
    "        cv2.putText(frame, text, (50, 50), 2, 0.8, (255, 255, 255), 2, cv2.LINE_AA)\n",
    "        for (x, y, w, h) in faces:\n",
    "            cv2.rectangle(frame, (x, y), (x + w, y + h), (0, 255, 0), 6)\n",
    "            roi_color = frame[y:y + h, x:x + w]\n",
    "            eyes = eye_cascade.detectMultiScale(roi_color, scaleFactor=1.1, minNeighbors=5, minSize=(50, 50))\n",
    "            for (ex, ey, ew, eh) in eyes:\n",
    "            # convert eye coordinates to global coordinates\n",
    "                ex_global, ey_global = x + ex, y + ey\n",
    "                cv2.rectangle(frame, (ex_global, ey_global), (ex_global + ew, ey_global + eh), (0, 0, 255), 10)\n",
    "        \n",
    "        if r + g + b >= 600:\n",
    "            cv2.putText(frame, text, (50, 50), 2, 0.8, (0, 0, 0), 2, cv2.LINE_AA)\n",
    "        \n",
    "        cv2.imshow(\"Color Detection\", frame) \n",
    "        #clicked = False\n",
    "#Esc\n",
    "    if cv2.waitKey(1) & 0xFF == ord('q'):\n",
    "        break\n",
    "\n",
    "video_capture.release()\n",
    "cv2.destroyAllWindows()"
   ]
  }
 ],
 "metadata": {
  "kernelspec": {
   "display_name": "Python 3 (ipykernel)",
   "language": "python",
   "name": "python3"
  },
  "language_info": {
   "codemirror_mode": {
    "name": "ipython",
    "version": 3
   },
   "file_extension": ".py",
   "mimetype": "text/x-python",
   "name": "python",
   "nbconvert_exporter": "python",
   "pygments_lexer": "ipython3",
   "version": "3.11.0"
  }
 },
 "nbformat": 4,
 "nbformat_minor": 5
}
