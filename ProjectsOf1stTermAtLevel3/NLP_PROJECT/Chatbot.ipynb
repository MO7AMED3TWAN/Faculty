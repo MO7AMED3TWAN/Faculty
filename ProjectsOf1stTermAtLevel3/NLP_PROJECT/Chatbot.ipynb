{
 "cells": [
  {
   "cell_type": "code",
   "execution_count": 7,
   "id": "f4f05009-e36f-4bf2-993d-a48504846125",
   "metadata": {},
   "outputs": [],
   "source": [
    "from sklearn.feature_extraction.text import TfidfVectorizer\n",
    "from sklearn.svm import SVC\n",
    "\n",
    "from sklearn.pipeline import make_pipeline\n",
    "from nltk.tokenize import word_tokenize\n",
    "from nltk.corpus import stopwords\n",
    "from nltk.stem import WordNetLemmatizer\n",
    "from string import punctuation\n",
    "\n",
    "import json\n",
    "import random\n",
    "\n",
    "import tkinter as tk\n",
    "from tkinter import Text, Scrollbar, Button"
   ]
  },
  {
   "cell_type": "markdown",
   "id": "aa78d122",
   "metadata": {},
   "source": [
    "## Data Preprocessing"
   ]
  },
  {
   "cell_type": "code",
   "execution_count": 8,
   "id": "0a46e287-8628-46c8-ac6a-b254a51dfd81",
   "metadata": {},
   "outputs": [],
   "source": [
    "# Process text\n",
    "def process_text(text):\n",
    "    # Lowercasing\n",
    "    text = text.lower()\n",
    "    \n",
    "    # Tokenization\n",
    "    tokens = word_tokenize(text)\n",
    "    \n",
    "    # Removing Punctuation\n",
    "    tokens = [token for token in tokens if token not in punctuation]\n",
    "    \n",
    "    # Stopword Removal\n",
    "    stop_words = set(stopwords.words('english'))\n",
    "    tokens = [token for token in tokens if token not in stop_words]\n",
    "    \n",
    "    # Lemmatization and Stemming\n",
    "    lemmatizer = WordNetLemmatizer()\n",
    "    lemmatized_tokens = [lemmatizer.lemmatize(token) for token in tokens]\n",
    "    \n",
    "    return ' '.join(lemmatized_tokens)"
   ]
  },
  {
   "cell_type": "markdown",
   "id": "1b7f0061",
   "metadata": {},
   "source": [
    "## Load The Data"
   ]
  },
  {
   "cell_type": "code",
   "execution_count": 9,
   "id": "e070d509-bba2-4b08-9bfa-367b9291b064",
   "metadata": {},
   "outputs": [],
   "source": [
    "# Load intent data from JSON\n",
    "with open('./intents.json', 'r') as file:\n",
    "    data = json.load(file)\n",
    "\n",
    "# Prepare data for training\n",
    "patterns = []\n",
    "responses = []\n",
    "for intent in data['intents']:\n",
    "    processed_patterns = [process_text(pattern) for pattern in intent['patterns']]\n",
    "    patterns.extend(processed_patterns)\n",
    "    responses.extend([intent['tag']] * len(intent['patterns']))"
   ]
  },
  {
   "cell_type": "markdown",
   "id": "604a8cf3",
   "metadata": {},
   "source": [
    "## Model Of Predict"
   ]
  },
  {
   "cell_type": "code",
   "execution_count": 10,
   "id": "716a1229-83aa-48b8-ad6c-516e86f24c9a",
   "metadata": {},
   "outputs": [
    {
     "data": {
      "text/html": [
       "<style>#sk-container-id-2 {color: black;background-color: white;}#sk-container-id-2 pre{padding: 0;}#sk-container-id-2 div.sk-toggleable {background-color: white;}#sk-container-id-2 label.sk-toggleable__label {cursor: pointer;display: block;width: 100%;margin-bottom: 0;padding: 0.3em;box-sizing: border-box;text-align: center;}#sk-container-id-2 label.sk-toggleable__label-arrow:before {content: \"▸\";float: left;margin-right: 0.25em;color: #696969;}#sk-container-id-2 label.sk-toggleable__label-arrow:hover:before {color: black;}#sk-container-id-2 div.sk-estimator:hover label.sk-toggleable__label-arrow:before {color: black;}#sk-container-id-2 div.sk-toggleable__content {max-height: 0;max-width: 0;overflow: hidden;text-align: left;background-color: #f0f8ff;}#sk-container-id-2 div.sk-toggleable__content pre {margin: 0.2em;color: black;border-radius: 0.25em;background-color: #f0f8ff;}#sk-container-id-2 input.sk-toggleable__control:checked~div.sk-toggleable__content {max-height: 200px;max-width: 100%;overflow: auto;}#sk-container-id-2 input.sk-toggleable__control:checked~label.sk-toggleable__label-arrow:before {content: \"▾\";}#sk-container-id-2 div.sk-estimator input.sk-toggleable__control:checked~label.sk-toggleable__label {background-color: #d4ebff;}#sk-container-id-2 div.sk-label input.sk-toggleable__control:checked~label.sk-toggleable__label {background-color: #d4ebff;}#sk-container-id-2 input.sk-hidden--visually {border: 0;clip: rect(1px 1px 1px 1px);clip: rect(1px, 1px, 1px, 1px);height: 1px;margin: -1px;overflow: hidden;padding: 0;position: absolute;width: 1px;}#sk-container-id-2 div.sk-estimator {font-family: monospace;background-color: #f0f8ff;border: 1px dotted black;border-radius: 0.25em;box-sizing: border-box;margin-bottom: 0.5em;}#sk-container-id-2 div.sk-estimator:hover {background-color: #d4ebff;}#sk-container-id-2 div.sk-parallel-item::after {content: \"\";width: 100%;border-bottom: 1px solid gray;flex-grow: 1;}#sk-container-id-2 div.sk-label:hover label.sk-toggleable__label {background-color: #d4ebff;}#sk-container-id-2 div.sk-serial::before {content: \"\";position: absolute;border-left: 1px solid gray;box-sizing: border-box;top: 0;bottom: 0;left: 50%;z-index: 0;}#sk-container-id-2 div.sk-serial {display: flex;flex-direction: column;align-items: center;background-color: white;padding-right: 0.2em;padding-left: 0.2em;position: relative;}#sk-container-id-2 div.sk-item {position: relative;z-index: 1;}#sk-container-id-2 div.sk-parallel {display: flex;align-items: stretch;justify-content: center;background-color: white;position: relative;}#sk-container-id-2 div.sk-item::before, #sk-container-id-2 div.sk-parallel-item::before {content: \"\";position: absolute;border-left: 1px solid gray;box-sizing: border-box;top: 0;bottom: 0;left: 50%;z-index: -1;}#sk-container-id-2 div.sk-parallel-item {display: flex;flex-direction: column;z-index: 1;position: relative;background-color: white;}#sk-container-id-2 div.sk-parallel-item:first-child::after {align-self: flex-end;width: 50%;}#sk-container-id-2 div.sk-parallel-item:last-child::after {align-self: flex-start;width: 50%;}#sk-container-id-2 div.sk-parallel-item:only-child::after {width: 0;}#sk-container-id-2 div.sk-dashed-wrapped {border: 1px dashed gray;margin: 0 0.4em 0.5em 0.4em;box-sizing: border-box;padding-bottom: 0.4em;background-color: white;}#sk-container-id-2 div.sk-label label {font-family: monospace;font-weight: bold;display: inline-block;line-height: 1.2em;}#sk-container-id-2 div.sk-label-container {text-align: center;}#sk-container-id-2 div.sk-container {/* jupyter's `normalize.less` sets `[hidden] { display: none; }` but bootstrap.min.css set `[hidden] { display: none !important; }` so we also need the `!important` here to be able to override the default hidden behavior on the sphinx rendered scikit-learn.org. See: https://github.com/scikit-learn/scikit-learn/issues/21755 */display: inline-block !important;position: relative;}#sk-container-id-2 div.sk-text-repr-fallback {display: none;}</style><div id=\"sk-container-id-2\" class=\"sk-top-container\"><div class=\"sk-text-repr-fallback\"><pre>Pipeline(steps=[(&#x27;tfidfvectorizer&#x27;, TfidfVectorizer()), (&#x27;svc&#x27;, SVC())])</pre><b>In a Jupyter environment, please rerun this cell to show the HTML representation or trust the notebook. <br />On GitHub, the HTML representation is unable to render, please try loading this page with nbviewer.org.</b></div><div class=\"sk-container\" hidden><div class=\"sk-item sk-dashed-wrapped\"><div class=\"sk-label-container\"><div class=\"sk-label sk-toggleable\"><input class=\"sk-toggleable__control sk-hidden--visually\" id=\"sk-estimator-id-4\" type=\"checkbox\" ><label for=\"sk-estimator-id-4\" class=\"sk-toggleable__label sk-toggleable__label-arrow\">Pipeline</label><div class=\"sk-toggleable__content\"><pre>Pipeline(steps=[(&#x27;tfidfvectorizer&#x27;, TfidfVectorizer()), (&#x27;svc&#x27;, SVC())])</pre></div></div></div><div class=\"sk-serial\"><div class=\"sk-item\"><div class=\"sk-estimator sk-toggleable\"><input class=\"sk-toggleable__control sk-hidden--visually\" id=\"sk-estimator-id-5\" type=\"checkbox\" ><label for=\"sk-estimator-id-5\" class=\"sk-toggleable__label sk-toggleable__label-arrow\">TfidfVectorizer</label><div class=\"sk-toggleable__content\"><pre>TfidfVectorizer()</pre></div></div></div><div class=\"sk-item\"><div class=\"sk-estimator sk-toggleable\"><input class=\"sk-toggleable__control sk-hidden--visually\" id=\"sk-estimator-id-6\" type=\"checkbox\" ><label for=\"sk-estimator-id-6\" class=\"sk-toggleable__label sk-toggleable__label-arrow\">SVC</label><div class=\"sk-toggleable__content\"><pre>SVC()</pre></div></div></div></div></div></div></div>"
      ],
      "text/plain": [
       "Pipeline(steps=[('tfidfvectorizer', TfidfVectorizer()), ('svc', SVC())])"
      ]
     },
     "execution_count": 10,
     "metadata": {},
     "output_type": "execute_result"
    }
   ],
   "source": [
    "# Create a TF-IDF vectorizer and a Support Vector Machine classifier\n",
    "model = make_pipeline(TfidfVectorizer(), SVC())\n",
    "\n",
    "# Train the model\n",
    "model.fit(patterns, responses)"
   ]
  },
  {
   "cell_type": "markdown",
   "id": "5d2da4b4",
   "metadata": {},
   "source": [
    "# Test Our Chatbot"
   ]
  },
  {
   "cell_type": "code",
   "execution_count": 11,
   "id": "791013b3-191a-44e4-9b05-b5974a21c285",
   "metadata": {},
   "outputs": [
    {
     "name": "stdout",
     "output_type": "stream",
     "text": [
      "Bot: Hi there, how can I help?\n"
     ]
    }
   ],
   "source": [
    "# Test the model\n",
    "while True:\n",
    "    user_input = input(\"You: \")\n",
    "    if user_input.lower() in ['exit', 'quit', 'bye']:\n",
    "        break\n",
    "\n",
    "    # Process user input\n",
    "    processed_input = process_text(user_input)\n",
    "\n",
    "    # Predict the intent\n",
    "    predicted_intent = model.predict([processed_input])\n",
    "\n",
    "    # Find the corresponding responses for the intent\n",
    "    intent_responses = []\n",
    "    for intent in data['intents']:\n",
    "        if intent['tag'] == predicted_intent[0]:\n",
    "            intent_responses = intent['responses']\n",
    "            break\n",
    "\n",
    "    # Choose a random response\n",
    "    response = random.choice(intent_responses) if intent_responses else \"Sorry, I don't understand.\"\n",
    "\n",
    "    # Print the response\n",
    "    print(\"Bot:\", response)"
   ]
  },
  {
   "cell_type": "markdown",
   "id": "e0c8f0e8",
   "metadata": {},
   "source": [
    "# GUI With Tkinter"
   ]
  },
  {
   "cell_type": "markdown",
   "id": "ba303302",
   "metadata": {},
   "source": [
    "<img src='./1.jpg'>"
   ]
  },
  {
   "cell_type": "code",
   "execution_count": 12,
   "id": "1ab43438",
   "metadata": {},
   "outputs": [],
   "source": [
    " class SimpleChatbotGUI:\n",
    "    def __init__(self):\n",
    "        self.base = tk.Tk()\n",
    "        self.base.title(\"AI Eagels\")\n",
    "        self.base.geometry(\"600x400\")\n",
    "        self.base.resizable(width=False, height=False)\n",
    "\n",
    "        self.ChatLog = Text(self.base, bd=1, bg=\"#2c2c2c\", fg=\"#ffffff\", insertbackground=\"#ffffff\",\n",
    "                            height=\"15\", width=\"60\", font=\"Arial\")\n",
    "        self.ChatLog.config(state=tk.DISABLED)\n",
    "\n",
    "        self.scrollbar = Scrollbar(self.base, command=self.ChatLog.yview, cursor=\"heart\")\n",
    "        self.ChatLog['yscrollcommand'] = self.scrollbar.set\n",
    "\n",
    "        self.SendButton = Button(self.base, font=(\"Verdana\", 12, 'bold'), text=\"Send\", width=\"8\", height=2,\n",
    "                                 bd=0, bg=\"#32de97\", activebackground=\"#3c9d9b\", fg='#ffffff',\n",
    "                                 command=self.send_message)\n",
    "\n",
    "        self.EntryBox = Text(self.base, bd=0, bg=\"#2c2c2c\", fg=\"#ffffff\", insertbackground=\"#ffffff\",\n",
    "                             width=\"45\", height=\"2\", font=\"Arial\")\n",
    "        self.EntryBox.bind(\"<Return>\", self.on_enter)  # Bind Enter key\n",
    "        self.EntryBox.bind(\"<Escape>\", self.on_escape)  # Bind Esc key\n",
    "\n",
    "        self.scrollbar.place(x=540, y=6, height=286)\n",
    "        self.ChatLog.place(x=10, y=6, height=286, width=520)\n",
    "        self.EntryBox.place(x=10, y=306, height=80, width=470)\n",
    "        self.SendButton.place(x=490, y=306, height=80)\n",
    "\n",
    "    def send_message(self, event=None):\n",
    "        user_input = self.EntryBox.get(\"1.0\", 'end-1c').strip()\n",
    "        self.EntryBox.delete(\"0.0\", tk.END)\n",
    "\n",
    "        if user_input != '':\n",
    "            self.ChatLog.config(state=tk.NORMAL)\n",
    "            self.ChatLog.insert(tk.END, \"User : \" + user_input + '\\n\\n')\n",
    "            self.ChatLog.config(foreground=\"#ffffff\", font=(\"Verdana\", 12))\n",
    "\n",
    "            # Process user input\n",
    "            processed_input = process_text(user_input)\n",
    "\n",
    "            # Predict the intent\n",
    "            predicted_intent = model.predict([processed_input])\n",
    "\n",
    "            # Find the corresponding responses for the intent\n",
    "            intent_responses = []\n",
    "            for intent in data['intents']:\n",
    "                if intent['tag'] == predicted_intent[0]:\n",
    "                    intent_responses = intent['responses']\n",
    "                    break\n",
    "\n",
    "            # Choose a random response\n",
    "            response = random.choice(intent_responses) if intent_responses else \"Sorry, I don't understand.\"\n",
    "\n",
    "            self.ChatLog.insert(tk.END, \"AI Eagles Bot : \" + response + '\\n\\n')\n",
    "\n",
    "            self.ChatLog.config(state=tk.DISABLED)\n",
    "            self.ChatLog.yview(tk.END)\n",
    "\n",
    "    def on_enter(self, event):\n",
    "        self.send_message()\n",
    "\n",
    "    def on_escape(self, event):\n",
    "        self.base.destroy()\n",
    "\n",
    "    def run(self):\n",
    "        self.base.mainloop()\n",
    "\n",
    "# Create an instance of SimpleChatbotGUI\n",
    "simple_chatbot_gui = SimpleChatbotGUI()\n",
    "\n",
    "# Run the GUI\n",
    "simple_chatbot_gui.run()"
   ]
  },
  {
   "cell_type": "markdown",
   "id": "91641bfd",
   "metadata": {},
   "source": [
    "# Thanks"
   ]
  }
 ],
 "metadata": {
  "kernelspec": {
   "display_name": "Python 3 (ipykernel)",
   "language": "python",
   "name": "python3"
  },
  "language_info": {
   "codemirror_mode": {
    "name": "ipython",
    "version": 3
   },
   "file_extension": ".py",
   "mimetype": "text/x-python",
   "name": "python",
   "nbconvert_exporter": "python",
   "pygments_lexer": "ipython3",
   "version": "3.11.0"
  }
 },
 "nbformat": 4,
 "nbformat_minor": 5
}
