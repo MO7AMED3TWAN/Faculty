{
 "cells": [
  {
   "cell_type": "markdown",
   "id": "61de4999-5970-4e81-83d5-a83517fd1355",
   "metadata": {},
   "source": [
    "## Built Environment"
   ]
  },
  {
   "cell_type": "code",
   "execution_count": 1,
   "id": "d9f59ce2-df02-47ce-8821-8b1e237f7ffb",
   "metadata": {
    "tags": []
   },
   "outputs": [],
   "source": [
    "import random\n",
    "\"\"\"\n",
    "[5, 2, 4, 1, 3]\n",
    "\n",
    "[[0,0,0,Q,0],\n",
    " [0,Q,0,0,0],\n",
    " [0,0,0,0,Q],\n",
    " [0,0,Q,0,0],\n",
    " [Q,0,0,0,0]\n",
    "]\n",
    "\"\"\"\n",
    "Population_Size =100\n",
    "N_Generations =100\n",
    "B_Size = 5\n",
    "Mutation_Rate=0.01"
   ]
  },
  {
   "cell_type": "markdown",
   "id": "c37e9fc5-5c43-4fac-bcc1-ac8f235d5e02",
   "metadata": {},
   "source": [
    "## Generate N Random Chromosomes"
   ]
  },
  {
   "cell_type": "code",
   "execution_count": 2,
   "id": "170b331f-1d7e-40de-a67a-af44587f80e4",
   "metadata": {
    "tags": []
   },
   "outputs": [],
   "source": [
    "def Generate_Random_Chromosome():\n",
    "    #### [Num1, Num2, Num3, Num4, Num5 ]  Form Of Our Individual (Chromosome) ####\n",
    "    return [random.randint(1, B_Size) for _ in range(B_Size)]"
   ]
  },
  {
   "cell_type": "markdown",
   "id": "785760c4-16c4-4215-ace0-e1af0e5c2162",
   "metadata": {},
   "source": [
    "## Calculate Number Of Conflicts For Each Queen"
   ]
  },
  {
   "cell_type": "code",
   "execution_count": 3,
   "id": "fdb41cf1-9b15-4ca2-8681-92d07d661bb3",
   "metadata": {
    "tags": []
   },
   "outputs": [],
   "source": [
    "def Calc_Conflicts(Chromosome):\n",
    "    N_Conflicts = 0\n",
    "    \n",
    "    for i in range(B_Size):\n",
    "        for j in range(i + 1, B_Size):\n",
    "            #Chick If Conflicts Is In Same Row Or Same Column\n",
    "            if Chromosome[i] == Chromosome[j]:\n",
    "                N_Conflicts += 1\n",
    "            #Chick In Diagnals\n",
    "            if abs(Chromosome[i] - Chromosome[j]) == abs(i - j):\n",
    "                N_Conflicts += 1\n",
    "    return N_Conflicts"
   ]
  },
  {
   "cell_type": "markdown",
   "id": "603c31ce-da4f-4bde-ba70-601ccfa7629f",
   "metadata": {
    "tags": []
   },
   "source": [
    "## Crossover Function"
   ]
  },
  {
   "cell_type": "code",
   "execution_count": 4,
   "id": "287e2eed-307e-454f-b37e-8badb000971f",
   "metadata": {
    "tags": []
   },
   "outputs": [],
   "source": [
    "def Crossover(F_Parent, S_Parent):\n",
    "    Crossover_Point = random.randint(2, B_Size - 2)\n",
    "    \n",
    "    F_Child = F_Parent[:Crossover_Point] + S_Parent[Crossover_Point:]\n",
    "    S_Child = S_Parent[:Crossover_Point] + F_Parent[Crossover_Point:]\n",
    "    \n",
    "    return (F_Child, S_Child)"
   ]
  },
  {
   "cell_type": "markdown",
   "id": "a80dc82e-b6b0-4ca8-ac21-0ee83a3ba4b4",
   "metadata": {},
   "source": [
    "## Mutation Function"
   ]
  },
  {
   "cell_type": "code",
   "execution_count": 177,
   "id": "88de9d1f-f633-424a-aa07-0e703b121aaf",
   "metadata": {
    "tags": []
   },
   "outputs": [],
   "source": [
    "# def Mutate(Chromosome):\n",
    "#     index = random.randint(0, B_Size - 1)\n",
    "#     Chromosome[index] = random.randint(1, B_Size)\n",
    "#     return Chromosome\n",
    "def Mutate(Chromosome):\n",
    "    for i in range(Population_Size):\n",
    "        if random.random() < Mutation_Rate:\n",
    "            index = random.randint(0, B_Size - 1)\n",
    "            Chromosome[index] = random.randint(1, B_Size)\n",
    "            return Chromosome\n",
    "            # print(Chromosome)\n",
    "        else:\n",
    "            return Chromosome\n",
    "            # print(\"NO MUTATION !!\")"
   ]
  },
  {
   "cell_type": "markdown",
   "id": "26a00c30-2f53-4aab-9108-2026321c4b8a",
   "metadata": {},
   "source": [
    "#### For Simple Test "
   ]
  },
  {
   "cell_type": "code",
   "execution_count": 178,
   "id": "51273561-63d1-4a87-a741-a38931f14e99",
   "metadata": {
    "tags": []
   },
   "outputs": [],
   "source": [
    "# for x in range(10):\n",
    "#     Mutate([1,2,3,5,4])"
   ]
  },
  {
   "cell_type": "markdown",
   "id": "685a5bed-6683-409e-8c78-9b4803e3bbbb",
   "metadata": {
    "tags": []
   },
   "source": [
    "### Run Genetic Algorithm"
   ]
  },
  {
   "cell_type": "markdown",
   "id": "1c7ce67f-f3fe-46f6-a4da-28565a190fc9",
   "metadata": {},
   "source": [
    "![Genetic Algoithm Sudo Code !!](\\G.png )"
   ]
  },
  {
   "cell_type": "code",
   "execution_count": 180,
   "id": "c03f8f5a-cda5-4729-8a33-43fcd46eece6",
   "metadata": {
    "tags": []
   },
   "outputs": [
    {
     "name": "stdout",
     "output_type": "stream",
     "text": [
      "The Optimum Solution Is : [2, 4, 1, 3, 5]\n"
     ]
    }
   ],
   "source": [
    "def Run_Genetic_Algorithm():\n",
    "    \n",
    "    #Initial Population\n",
    "    Population = [Generate_Random_Chromosome() for _ in range(Population_Size)]\n",
    "    Counter=0\n",
    "\n",
    "    for Generation in range(N_Generations):\n",
    "        Counter+=1\n",
    "        \n",
    "        #Calculate Fitness\n",
    "        Fitness_Scores = [Calc_Conflicts(Chromosome) for Chromosome in Population]\n",
    "        Minimum_One = min(Fitness_Scores)\n",
    "           \n",
    "            \n",
    "        if Minimum_One == 0:\n",
    "            return Population[Fitness_Scores.index(Minimum_One)]\n",
    "        \n",
    "        #Selection Step\n",
    "        Parent1, Parent2 = random.choices(Population, weights=[1/score for score in Fitness_Scores], k=2)\n",
    "        \n",
    "        #Crossover Step\n",
    "        Child1, Child2 = Crossover(Parent1, Parent2)\n",
    "        \n",
    "        #Mutation Step\n",
    "        Child1 = Mutate(Child1)\n",
    "        Child2 = Mutate(Child2)\n",
    "        \n",
    "        Population.append(Child1)\n",
    "        Population.append(Child2)\n",
    "        Population = [Chromosome for Chromosome in Population if random.random() > 1/len(Population)]\n",
    "\n",
    "        print(f\"{Counter} : {Minimum_One}\")\n",
    "\n",
    "    return None\n",
    "\n",
    "    \n",
    "Solution = Run_Genetic_Algorithm()\n",
    "if Solution:\n",
    "    print(f\"The Optimum Solution Is : {Solution}\")\n",
    "else:\n",
    "    print(\"Unfortunately There Is No Solution !!\")"
   ]
  },
  {
   "cell_type": "markdown",
   "id": "32111fef-9e2a-4d32-a0ff-17b2c44cd44a",
   "metadata": {
    "tags": []
   },
   "source": [
    "### For Test"
   ]
  },
  {
   "cell_type": "code",
   "execution_count": 20,
   "id": "df587ab6-8c58-4e1c-8243-47a5e5d2ee8e",
   "metadata": {
    "tags": []
   },
   "outputs": [],
   "source": [
    "# Test=[Generate_Random_Chromosome() for _ in range(5)]\n",
    "# print(\"<<<This Is A Random Population !!>>>\")\n",
    "# for x in Test:\n",
    "#     print(x)\n",
    "\n",
    "# print(\"\\n<<<Test Of Calculate Numbers of Conflicts>>>\")\n",
    "# for y in(Test):     \n",
    "#     print(f\"N_Conflicts: {Calc_Conflicts(y)}\")\n",
    "\n",
    "# print(\"\\n<<<Test Of Crossover>>>\")\n",
    "# print(f\"The Original Chromosomes (Parents): \\n{Test[0]}\\n{Test[1]}\")\n",
    "# print(f\"The Madded Chromosomes (Childs): \\n{Crossover(Test[0], Test[1])}\")\n",
    "\n",
    "# print(\"\\n<<<Test Of Mutation>>>\")\n",
    "# print(f\"THe Original Chromosome : {Test[3]}\")\n",
    "# print(f\"The Mutate One : {Mutate(Test[3])}\")"
   ]
  }
 ],
 "metadata": {
  "kernelspec": {
   "display_name": "Python 3 (ipykernel)",
   "language": "python",
   "name": "python3"
  },
  "language_info": {
   "codemirror_mode": {
    "name": "ipython",
    "version": 3
   },
   "file_extension": ".py",
   "mimetype": "text/x-python",
   "name": "python",
   "nbconvert_exporter": "python",
   "pygments_lexer": "ipython3",
   "version": "3.11.0"
  },
  "widgets": {
   "application/vnd.jupyter.widget-state+json": {
    "state": {},
    "version_major": 2,
    "version_minor": 0
   }
  }
 },
 "nbformat": 4,
 "nbformat_minor": 5
}
