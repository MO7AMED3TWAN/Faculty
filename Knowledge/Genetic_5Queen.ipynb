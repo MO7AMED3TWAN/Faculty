{
 "cells": [
  {
   "cell_type": "markdown",
   "id": "61de4999-5970-4e81-83d5-a83517fd1355",
   "metadata": {},
   "source": [
    "## Built Environment"
   ]
  },
  {
   "cell_type": "code",
   "execution_count": 24,
   "id": "d9f59ce2-df02-47ce-8821-8b1e237f7ffb",
   "metadata": {
    "tags": []
   },
   "outputs": [],
   "source": [
    "import random\n",
    "\"\"\"\n",
    "[3, 5, 2, 4, 1]\n",
    "[\n",
    " [0,0,0,0,1],\n",
    " [0,0,1,0,0],\n",
    " [1,0,0,0,0],\n",
    " [0,0,0,1,0],\n",
    " [0,1,0,0,0]\n",
    "]\n",
    "\"\"\"\n",
    "Population_Size =100\n",
    "N_Generations =100\n",
    "B_Size = 8\n",
    "Mutation_Rate=0.01"
   ]
  },
  {
   "cell_type": "markdown",
   "id": "c37e9fc5-5c43-4fac-bcc1-ac8f235d5e02",
   "metadata": {},
   "source": [
    "## Generate N Random Chromosomes"
   ]
  },
  {
   "cell_type": "code",
   "execution_count": 25,
   "id": "170b331f-1d7e-40de-a67a-af44587f80e4",
   "metadata": {
    "tags": []
   },
   "outputs": [],
   "source": [
    "def Generate_Random_Chromosome():\n",
    "    #### [Num1, Num2, Num3, Num4, Num5 ]  Form Of Our Individual (Chromosome) ####\n",
    "    return [random.randint(1, B_Size) for _ in range(B_Size)]"
   ]
  },
  {
   "cell_type": "markdown",
   "id": "785760c4-16c4-4215-ace0-e1af0e5c2162",
   "metadata": {},
   "source": [
    "## Calculate Number Of Conflicts For Each Queen"
   ]
  },
  {
   "cell_type": "code",
   "execution_count": 26,
   "id": "fdb41cf1-9b15-4ca2-8681-92d07d661bb3",
   "metadata": {
    "tags": []
   },
   "outputs": [],
   "source": [
    "def Calc_Conflicts(Chromosome):\n",
    "    N_Conflicts = 0\n",
    "    \n",
    "    for i in range(B_Size):\n",
    "        for j in range(i + 1, B_Size):\n",
    "            #Chick If Conflicts Is In Same Row Or Same Column\n",
    "            if Chromosome[i] == Chromosome[j]:\n",
    "                N_Conflicts += 1\n",
    "            #Chick In Diagnals\n",
    "            if abs(Chromosome[i] - Chromosome[j]) == abs(i - j):\n",
    "                N_Conflicts += 1\n",
    "    return N_Conflicts"
   ]
  },
  {
   "cell_type": "markdown",
   "id": "603c31ce-da4f-4bde-ba70-601ccfa7629f",
   "metadata": {
    "tags": []
   },
   "source": [
    "## Crossover Function"
   ]
  },
  {
   "cell_type": "code",
   "execution_count": 27,
   "id": "287e2eed-307e-454f-b37e-8badb000971f",
   "metadata": {
    "tags": []
   },
   "outputs": [],
   "source": [
    "def Crossover(F_Parent, S_Parent):\n",
    "    Crossover_Point = random.randint(2, B_Size - 2)\n",
    "\n",
    "    F_Child = F_Parent[:Crossover_Point] + S_Parent[Crossover_Point:]\n",
    "    S_Child = S_Parent[:Crossover_Point] + F_Parent[Crossover_Point:]\n",
    "    \n",
    "    return (F_Child, S_Child)"
   ]
  },
  {
   "cell_type": "markdown",
   "id": "26a00c30-2f53-4aab-9108-2026321c4b8a",
   "metadata": {
    "tags": []
   },
   "source": [
    "#### For Simple Test "
   ]
  },
  {
   "cell_type": "code",
   "execution_count": 28,
   "id": "51273561-63d1-4a87-a741-a38931f14e99",
   "metadata": {
    "tags": []
   },
   "outputs": [],
   "source": [
    "# for x in range(100):\n",
    "#     print(Mutate([1,2,3,5,4]))"
   ]
  },
  {
   "cell_type": "code",
   "execution_count": 32,
   "id": "c03f8f5a-cda5-4729-8a33-43fcd46eece6",
   "metadata": {
    "tags": []
   },
   "outputs": [
    {
     "name": "stdout",
     "output_type": "stream",
     "text": [
      "1 : 2\n",
      "2 : 2\n",
      "3 : 2\n",
      "4 : 2\n",
      "5 : 2\n",
      "6 : 2\n",
      "7 : 2\n",
      "8 : 2\n",
      "9 : 2\n",
      "10 : 2\n",
      "11 : 2\n",
      "12 : 2\n",
      "13 : 2\n",
      "14 : 2\n",
      "15 : 2\n",
      "16 : 2\n",
      "17 : 2\n",
      "18 : 2\n",
      "19 : 2\n",
      "20 : 2\n",
      "21 : 2\n",
      "22 : 2\n",
      "23 : 2\n",
      "24 : 2\n",
      "25 : 2\n",
      "26 : 2\n",
      "27 : 2\n",
      "28 : 2\n",
      "29 : 2\n",
      "30 : 2\n",
      "31 : 2\n",
      "32 : 2\n",
      "33 : 2\n",
      "34 : 2\n",
      "35 : 2\n",
      "36 : 2\n",
      "37 : 2\n",
      "38 : 2\n",
      "39 : 2\n",
      "40 : 2\n",
      "41 : 2\n",
      "42 : 2\n",
      "43 : 2\n",
      "44 : 2\n",
      "45 : 2\n",
      "46 : 2\n",
      "47 : 2\n",
      "48 : 2\n",
      "49 : 2\n",
      "50 : 2\n",
      "51 : 2\n",
      "52 : 2\n",
      "53 : 2\n",
      "54 : 2\n",
      "55 : 2\n",
      "56 : 2\n",
      "57 : 2\n",
      "58 : 2\n",
      "59 : 2\n",
      "60 : 2\n",
      "61 : 2\n",
      "62 : 2\n",
      "63 : 2\n",
      "64 : 2\n",
      "65 : 2\n",
      "66 : 2\n",
      "67 : 2\n",
      "68 : 2\n",
      "69 : 2\n",
      "70 : 2\n",
      "71 : 2\n",
      "72 : 2\n",
      "73 : 2\n",
      "74 : 2\n",
      "75 : 2\n",
      "76 : 2\n",
      "77 : 2\n",
      "78 : 2\n",
      "79 : 2\n",
      "80 : 2\n",
      "81 : 2\n",
      "82 : 2\n",
      "83 : 2\n",
      "84 : 2\n",
      "85 : 2\n",
      "86 : 2\n",
      "87 : 2\n",
      "88 : 2\n",
      "89 : 2\n",
      "90 : 2\n",
      "91 : 2\n",
      "92 : 2\n",
      "93 : 2\n",
      "94 : 2\n",
      "95 : 2\n",
      "96 : 2\n",
      "97 : 2\n",
      "98 : 2\n",
      "99 : 2\n",
      "100 : 2\n",
      "Unfortunately There Is No Solution !!\n"
     ]
    }
   ],
   "source": [
    "def Run_Genetic_Algorithm():\n",
    "    \n",
    "    #Initial Population\n",
    "    Population = [Generate_Random_Chromosome() for _ in range(Population_Size)]\n",
    "    Counter=0\n",
    "\n",
    "    for Generation in range(N_Generations):\n",
    "        Counter+=1\n",
    "        \n",
    "        #Calculate Fitness\n",
    "        Fitness_Scores = [Calc_Conflicts(Chromosome) for Chromosome in Population]\n",
    "        Minimum_One = min(Fitness_Scores)\n",
    "           \n",
    "            \n",
    "        if Minimum_One == 0:\n",
    "            return Population[Fitness_Scores.index(Minimum_One)]\n",
    "        \n",
    "        #Selection Step\n",
    "        Parent1, Parent2 = random.choices(Population, weights=[1/score for score in Fitness_Scores], k=2)\n",
    "        \n",
    "        #Crossover Step\n",
    "        Child1, Child2 = Crossover(Parent1, Parent2)\n",
    "        \n",
    "        \n",
    "        Population.append(Child1)\n",
    "        Population.append(Child2)\n",
    "        Population = [Chromosome for Chromosome in Population if random.random() > 1/len(Population)]\n",
    "\n",
    "        print(f\"{Counter} : {Minimum_One}\")\n",
    "\n",
    "    return None\n",
    "\n",
    "    \n",
    "Solution = Run_Genetic_Algorithm()\n",
    "if Solution:\n",
    "    print(f\"The Optimum Solution Is : {Solution}\")\n",
    "else:\n",
    "    print(\"Unfortunately There Is No Solution !!\")"
   ]
  },
  {
   "cell_type": "markdown",
   "id": "32111fef-9e2a-4d32-a0ff-17b2c44cd44a",
   "metadata": {
    "tags": []
   },
   "source": [
    "### For Test"
   ]
  },
  {
   "cell_type": "code",
   "execution_count": 30,
   "id": "df587ab6-8c58-4e1c-8243-47a5e5d2ee8e",
   "metadata": {
    "tags": []
   },
   "outputs": [],
   "source": [
    "# Test=[Generate_Random_Chromosome() for _ in range(5)]\n",
    "# print(\"<<<This Is A Random Population !!>>>\")\n",
    "# for x in Test:\n",
    "#     print(x)\n",
    "\n",
    "# print(\"\\n<<<Test Of Calculate Numbers of Conflicts>>>\")\n",
    "# for y in(Test):     \n",
    "#     print(f\"N_Conflicts: {Calc_Conflicts(y)}\")\n",
    "\n",
    "# print(\"\\n<<<Test Of Crossover>>>\")\n",
    "# print(f\"The Original Chromosomes (Parents): \\n{Test[0]}\\n{Test[1]}\")\n",
    "# print(f\"The Madded Chromosomes (Childs): \\n{Crossover(Test[0], Test[1])}\")\n",
    "\n",
    "# print(\"\\n<<<Test Of Mutation>>>\")\n",
    "# print(f\"THe Original Chromosome : {Test[3]}\")\n",
    "# print(f\"The Mutate One : {Mutate(Test[3])}\")"
   ]
  },
  {
   "cell_type": "code",
   "execution_count": null,
   "id": "e2b3e895-fa93-4c50-bd71-20287668d998",
   "metadata": {},
   "outputs": [],
   "source": []
  }
 ],
 "metadata": {
  "kernelspec": {
   "display_name": "Python 3 (ipykernel)",
   "language": "python",
   "name": "python3"
  },
  "language_info": {
   "codemirror_mode": {
    "name": "ipython",
    "version": 3
   },
   "file_extension": ".py",
   "mimetype": "text/x-python",
   "name": "python",
   "nbconvert_exporter": "python",
   "pygments_lexer": "ipython3",
   "version": "3.11.0"
  },
  "widgets": {
   "application/vnd.jupyter.widget-state+json": {
    "state": {},
    "version_major": 2,
    "version_minor": 0
   }
  }
 },
 "nbformat": 4,
 "nbformat_minor": 5
}
