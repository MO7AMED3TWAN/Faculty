{
 "cells": [
  {
   "cell_type": "code",
   "execution_count": 37,
   "id": "8ad9fa80-17ab-4d20-bcd2-2696f58bf442",
   "metadata": {
    "tags": []
   },
   "outputs": [
    {
     "name": "stdin",
     "output_type": "stream",
     "text": [
      " 4\n",
      " -1\n",
      " 1\n",
      " 2\n",
      " -1\n"
     ]
    },
    {
     "name": "stdout",
     "output_type": "stream",
     "text": [
      "3\n"
     ]
    }
   ],
   "source": [
    "N_Employees = int(input())\n",
    "OrderOfEmployees = [int(input()) for X in range(N_Employees)]\n",
    "max_depth = 0\n",
    "\n",
    "for i in range(N_Employees):\n",
    "    DepthOfEmployee = 0\n",
    "    \n",
    "    while OrderOfEmployees[i] != -1:\n",
    "        i = OrderOfEmployees[i] - 1\n",
    "        DepthOfEmployee += 1\n",
    "        \n",
    "    max_depth = max(max_depth, DepthOfEmployee)\n",
    "\n",
    "print(max_depth + 1)"
   ]
  },
  {
   "cell_type": "code",
   "execution_count": null,
   "id": "0c1378a6-d508-4aae-b06a-5f64fb5ed25c",
   "metadata": {},
   "outputs": [],
   "source": []
  }
 ],
 "metadata": {
  "kernelspec": {
   "display_name": "Python 3 (ipykernel)",
   "language": "python",
   "name": "python3"
  },
  "language_info": {
   "codemirror_mode": {
    "name": "ipython",
    "version": 3
   },
   "file_extension": ".py",
   "mimetype": "text/x-python",
   "name": "python",
   "nbconvert_exporter": "python",
   "pygments_lexer": "ipython3",
   "version": "3.11.0"
  },
  "widgets": {
   "application/vnd.jupyter.widget-state+json": {
    "state": {},
    "version_major": 2,
    "version_minor": 0
   }
  }
 },
 "nbformat": 4,
 "nbformat_minor": 5
}
