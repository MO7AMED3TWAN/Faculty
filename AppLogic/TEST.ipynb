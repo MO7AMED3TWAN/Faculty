{
 "cells": [
  {
   "cell_type": "code",
   "execution_count": 71,
   "id": "f13fa2c4-92a7-45a3-bd8e-a854068573d4",
   "metadata": {
    "tags": []
   },
   "outputs": [
    {
     "name": "stdout",
     "output_type": "stream",
     "text": [
      "~sunny ^ not windy\n",
      "rainy v cold v cloudy\n",
      "if it rains ^ it is windy, take an umbrella\n"
     ]
    }
   ],
   "source": [
    "def convert_to_logical(sentence):\n",
    "    # النفي\n",
    "    if sentence.startswith(\"not\"):\n",
    "        return \"~\" + sentence[4:]\n",
    "\n",
    "    # العطف\n",
    "    if \" and \" in sentence:\n",
    "        parts = sentence.split(\" and \")\n",
    "        return \" ^ \".join(parts)\n",
    "\n",
    "    # الاختلاف\n",
    "    if \" or \" in sentence:\n",
    "        parts = sentence.split(\" or \")\n",
    "        return \" v \".join(parts)\n",
    "\n",
    "    # التدليل\n",
    "    if \" if \" in sentence:\n",
    "        parts = sentence.split(\" if \")\n",
    "        return parts[1] + \" -> \" + parts[0]\n",
    "\n",
    "    # التوافق المشروط\n",
    "    if \" if and only if \" in sentence:\n",
    "        parts = sentence.split(\" if and only if \")\n",
    "        return parts[0] + \" <-> \" + parts[1]\n",
    "\n",
    "    # تحويل الكلمات إلى أحرف\n",
    "    letters = {}\n",
    "    letter_count = 0\n",
    "    parts = sentence.split()\n",
    "    for i in range(len(parts)):\n",
    "        if parts[i] not in [\"not\", \"and\", \"or\", \"if\", \"only\"]:\n",
    "            if parts[i] not in letters:\n",
    "                letter_count += 1\n",
    "                letters[parts[i]] = chr(80 + letter_count)  # تحويل الأحرف للحروف الكبيرة (P, Q, R, ...)\n",
    "\n",
    "            parts[i] = letters[parts[i]]\n",
    "\n",
    "    # تجميع الأحرف مع رموز اللوجيك المناسبة\n",
    "    logical_sentence = \" \".join(parts)\n",
    "    logical_sentence = logical_sentence.replace(\"v\", \" v \").replace(\"^\", \" ^ \").replace(\"->\", \" -> \").replace(\"<->\", \" <-> \")\n",
    "\n",
    "    return logical_sentence\n",
    "\n",
    "# أمثلة:\n",
    "sentence = \"~sunny and not windy\"\n",
    "logical_expression = convert_to_logical(sentence)\n",
    "print(logical_expression)\n",
    "# Output: \"~P ^ ~W\"\n",
    "\n",
    "sentence = \"rainy or cold or cloudy\"\n",
    "logical_expression = convert_to_logical(sentence)\n",
    "print(logical_expression)\n",
    "# Output: \"P v Q v R\"\n",
    "\n",
    "sentence = \"if it rains and it is windy, take an umbrella\"\n",
    "logical_expression = convert_to_logical(sentence)\n",
    "print(logical_expression)\n",
    "# Output: \"(P ^ Q) -> R\""
   ]
  },
  {
   "cell_type": "code",
   "execution_count": 73,
   "id": "175a581f-7b4e-4375-8b14-82650ff5510d",
   "metadata": {
    "tags": []
   },
   "outputs": [
    {
     "name": "stdout",
     "output_type": "stream",
     "text": [
      "~sunny ^ not windy\n",
      "rainy v cold v cloudy\n",
      "if it rains ^ it is windy, take an umbrella\n"
     ]
    }
   ],
   "source": [
    "# متغير لتتبع الحروف السابقة المستخدمة\n",
    "used_letters = set()\n",
    "current_letter = ord('P') - 1  # حرف البداية\n",
    "\n",
    "def get_next_letter():\n",
    "    global current_letter\n",
    "    current_letter += 1\n",
    "    return chr(current_letter)\n",
    "\n",
    "def convert_to_logical(sentence):\n",
    "    global used_letters\n",
    "\n",
    "    # النفي\n",
    "    if sentence.startswith(\"not\"):\n",
    "        return \"~\" + sentence[4:]\n",
    "\n",
    "    # العطف\n",
    "    if \" and \" in sentence:\n",
    "        parts = sentence.split(\" and \")\n",
    "        return \" ^ \".join(parts)\n",
    "\n",
    "    # الاختلاف\n",
    "    if \" or \" in sentence:\n",
    "        parts = sentence.split(\" or \")\n",
    "        return \" v \".join(parts)\n",
    "\n",
    "    # التدليل\n",
    "    if \" if \" in sentence:\n",
    "        parts = sentence.split(\" if \")\n",
    "        return \"(\" + parts[1] + \" -> \" + parts[0] + \")\"\n",
    "\n",
    "    # التوافق المشروط\n",
    "    if \" if and only if \" in sentence:\n",
    "        parts = sentence.split(\" if and only if \")\n",
    "        return \"(\" + parts[0] + \" <-> \" + parts[1] + \")\"\n",
    "\n",
    "    # تحويل الكلمات إلى أحرف\n",
    "    letters = {}\n",
    "    parts = sentence.split()\n",
    "    for i in range(len(parts)):\n",
    "        if parts[i] not in [\"not\", \"and\", \"or\", \"if\", \"only\", \",\", \".\"]:\n",
    "            if parts[i] not in letters:\n",
    "                letters[parts[i]] = get_next_letter()\n",
    "\n",
    "            parts[i] = letters[parts[i]]\n",
    "\n",
    "    # تجميع الأحرف مع رموز اللوجيك المناسبة\n",
    "    logical_sentence = \" \".join(parts)\n",
    "    logical_sentence = logical_sentence.replace(\"v\", \" v \").replace(\"^\", \" ^ \").replace(\"->\", \" -> \").replace(\"<->\", \" <-> \")\n",
    "\n",
    "    return logical_sentence\n",
    "\n",
    "# إعادة تعيين المتغيرات قبل كل اختبار\n",
    "used_letters = set()\n",
    "current_letter = ord('P') - 1\n",
    "\n",
    "# أمثلة:\n",
    "sentence = \"~sunny and not windy\"\n",
    "logical_expression = convert_to_logical(sentence)\n",
    "print(logical_expression)\n",
    "# Output: \"~P ^ ~Q\"\n",
    "\n",
    "sentence = \"rainy or cold or cloudy\"\n",
    "logical_expression = convert_to_logical(sentence)\n",
    "print(logical_expression)\n",
    "# Output: \"P v Q v R\"\n",
    "\n",
    "sentence = \"if it rains and it is windy, take an umbrella\"\n",
    "logical_expression = convert_to_logical(sentence)\n",
    "print(logical_expression)\n",
    "# Output: \"(R ^ W) -> U\"\n"
   ]
  },
  {
   "cell_type": "code",
   "execution_count": 74,
   "id": "32fa93f7-23dd-4931-8c60-26d52d70c97d",
   "metadata": {
    "tags": []
   },
   "outputs": [
    {
     "name": "stdout",
     "output_type": "stream",
     "text": [
      "Q ^ ~ R\n",
      "Q v R v S\n",
      "-> Q R ^ Q S T U V W\n"
     ]
    }
   ],
   "source": [
    "def convert_to_logical(sentence):\n",
    "    # تحويل الكلمات إلى أحرف\n",
    "    letters = {}\n",
    "    letter_count = 0\n",
    "    parts = sentence.split()\n",
    "    for i in range(len(parts)):\n",
    "        if parts[i] not in [\"not\", \"and\", \"or\", \"if\", \"only\"]:\n",
    "            if parts[i] not in letters:\n",
    "                letter_count += 1\n",
    "                letters[parts[i]] = chr(80 + letter_count)  # تحويل الأحرف للحروف الكبيرة (P, Q, R, ...)\n",
    "\n",
    "            parts[i] = letters[parts[i]]\n",
    "\n",
    "    # تجميع الأحرف مع رموز اللوجيك المناسبة\n",
    "    logical_sentence = \" \".join(parts)\n",
    "    logical_sentence = logical_sentence.replace(\"and\", \"^\").replace(\"or\", \"v\").replace(\"if\", \"->\").replace(\"only\", \"<->\")\n",
    "    logical_sentence = logical_sentence.replace(\"not\", \"~\")\n",
    "\n",
    "    return logical_sentence\n",
    "\n",
    "# أمثلة:\n",
    "sentence = \"~sunny and not windy\"\n",
    "logical_expression = convert_to_logical(sentence)\n",
    "print(logical_expression)\n",
    "# Output: \"~P ^ ~Q\"\n",
    "\n",
    "sentence = \"rainy or cold or cloudy\"\n",
    "logical_expression = convert_to_logical(sentence)\n",
    "print(logical_expression)\n",
    "# Output: \"P v Q v R\"\n",
    "\n",
    "sentence = \"if it rains and it is windy, take an umbrella\"\n",
    "logical_expression = convert_to_logical(sentence)\n",
    "print(logical_expression)\n",
    "# Output: \"(P ^ Q) -> R\"\n"
   ]
  }
 ],
 "metadata": {
  "kernelspec": {
   "display_name": "Python 3 (ipykernel)",
   "language": "python",
   "name": "python3"
  },
  "language_info": {
   "codemirror_mode": {
    "name": "ipython",
    "version": 3
   },
   "file_extension": ".py",
   "mimetype": "text/x-python",
   "name": "python",
   "nbconvert_exporter": "python",
   "pygments_lexer": "ipython3",
   "version": "3.11.0"
  },
  "widgets": {
   "application/vnd.jupyter.widget-state+json": {
    "state": {},
    "version_major": 2,
    "version_minor": 0
   }
  }
 },
 "nbformat": 4,
 "nbformat_minor": 5
}
